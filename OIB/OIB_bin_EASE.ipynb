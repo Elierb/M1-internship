{
 "cells": [
  {
   "cell_type": "code",
   "execution_count": 9,
   "id": "921eeea2",
   "metadata": {},
   "outputs": [],
   "source": [
    "import glob\n",
    "import os\n",
    "import numpy as np\n",
    "import datetime\n",
    "from netCDF4 import Dataset\n",
    "import scipy.io\n",
    "import h5py\n",
    "from pyproj import Proj, Transformer\n",
    "import cartopy.crs as ccrs\n",
    "from scipy.spatial.kdtree import KDTree\n",
    "import scipy.stats as scst\n",
    "from regrid import regrid\n",
    "from regrid import regrid_fast\n",
    "import xarray as xr\n",
    "import pandas as pd\n",
    "import matplotlib.pyplot as plt\n",
    "import cartopy\n",
    "import warnings\n",
    "warnings.filterwarnings(\"ignore\")"
   ]
  },
  {
   "cell_type": "markdown",
   "id": "508dc835",
   "metadata": {},
   "source": [
    "### function to find nearest EASE grid cell for OIB coords"
   ]
  },
  {
   "cell_type": "code",
   "execution_count": 10,
   "id": "ade0552e",
   "metadata": {},
   "outputs": [],
   "source": [
    "def lonlat_to_xy(coords_1, coords_2, hemisphere, inverse=False):\n",
    "\n",
    "    \"\"\"Converts between longitude/latitude and EASE xy coordinates.\n",
    " \n",
    "    Args:\n",
    "        lon (float): WGS84 longitude\n",
    "        lat (float): WGS84 latitude\n",
    "        hemisphere (string): 'n' or 's'\n",
    "        inverse (bool): if true, converts xy to lon/lat\n",
    " \n",
    "    Returns:\n",
    "        tuple: pair of xy or lon/lat values\n",
    "    \"\"\"\n",
    "\n",
    "    EASE_Proj = {'n': 'EPSG:3408',\n",
    "                 's': 'EPGS:3409'}\n",
    "    \n",
    "    WGS_Proj = 'EPSG:4326'\n",
    "    \n",
    "    for coords in [coords_1, coords_2]: assert isinstance(coords,(np.ndarray,list))\n",
    "\n",
    "    if inverse == False: # lonlat to xy\n",
    "        \n",
    "        lon, lat = coords_1, coords_2\n",
    "        \n",
    "        transformer = Transformer.from_crs(WGS_Proj, EASE_Proj[hemisphere])\n",
    "        \n",
    "        x, y = transformer.transform(lat, lon)\n",
    "        \n",
    "        return (x, y)\n",
    "\n",
    "    else: # xy to lonlat\n",
    "        \n",
    "        x, y = coords_1, coords_2\n",
    "        \n",
    "        transformer = Transformer.from_crs(EASE_Proj[hemisphere], WGS_Proj)\n",
    "        \n",
    "        lat, lon = transformer.transform(x, y)\n",
    "        \n",
    "        return (lon, lat)"
   ]
  },
  {
   "cell_type": "markdown",
   "id": "46999af1",
   "metadata": {},
   "source": [
    "### load OIB data, regrid and combine into one file"
   ]
  },
  {
   "cell_type": "code",
   "execution_count": 11,
   "id": "ab3ee979",
   "metadata": {},
   "outputs": [],
   "source": [
    "# load ease lons,lats:\n",
    "ease_lats = np.load('/Users/carmennab/Dropbox/OI_PolarSnow/EASE/auxiliary/new_lat_25km.npy')\n",
    "ease_lons = np.load('/Users/carmennab/Dropbox/OI_PolarSnow/EASE/auxiliary/new_lon_25km.npy')\n",
    "\n",
    "# convert into x,y:\n",
    "ease_x, ease_y = lonlat_to_xy(ease_lons,ease_lats,hemisphere='n')\n",
    "\n",
    "# create KDTree to find EASE grid cell closest to buoy:\n",
    "tree = KDTree(list(zip(ease_x.ravel(),ease_y.ravel())))"
   ]
  },
  {
   "cell_type": "code",
   "execution_count": 13,
   "id": "baee8ce8",
   "metadata": {
    "scrolled": true
   },
   "outputs": [
    {
     "name": "stdout",
     "output_type": "stream",
     "text": [
      "out of bounds: 20130321\n",
      "out of bounds: 20130322\n",
      "out of bounds: 20130323\n",
      "out of bounds: 20130324\n",
      "out of bounds: 20130326\n",
      "out of bounds: 20130327\n",
      "out of bounds: 20130422\n",
      "out of bounds: 20130424\n",
      "out of bounds: 20130425\n"
     ]
    }
   ],
   "source": [
    "days = np.arange(0,4018)\n",
    "dates = [datetime.date(2010,1,1)+datetime.timedelta(days=np.int(days)) for days in days]\n",
    "\n",
    "datapath = '/Users/carmennab/Dropbox/sabrina_oib/raw_data/'\n",
    "\n",
    "files = sorted(glob.glob(datapath+'*.txt'))\n",
    "\n",
    "for day in days:\n",
    "    oib_sit = np.full((ease_x.shape),np.nan)\n",
    "    oib_snow = np.full((ease_x.shape),np.nan)\n",
    "    \n",
    "    inds_si = {}\n",
    "    inds_sn = {}\n",
    "    date = dates[day].strftime('%Y%m%d')\n",
    " \n",
    "    for f in os.listdir(datapath):\n",
    "        if date in f:\n",
    "            try:\n",
    "                data = pd.read_csv(datapath+f,delimiter=',',usecols=[0,1,2,7])\n",
    "\n",
    "                sit = np.array(data['thickness'])\n",
    "                snow = np.array(data['snow_depth'])\n",
    "                sit[sit<0] = np.nan\n",
    "                snow[snow<0] = np.nan\n",
    "\n",
    "                oib_lons = np.array(data['lon'])\n",
    "                oib_lats = np.array(data['lat'])\n",
    "                oib_x,oib_y = lonlat_to_xy(oib_lons,oib_lats,hemisphere='n') \n",
    "\n",
    "                for x,y,si,sn in zip(oib_x,oib_y,sit,snow):\n",
    "\n",
    "                    dist, ind = tree.query([x,y])\n",
    "\n",
    "                    ind2d = np.unravel_index(ind, (ease_lats.shape[0],ease_lats.shape[1]))\n",
    "\n",
    "                    if ind2d in inds_si.keys():\n",
    "                        inds_si[ind2d].append(si)\n",
    "                        inds_sn[ind2d].append(sn)\n",
    "                    else:   \n",
    "                        inds_si[ind2d] = [si]\n",
    "                        inds_sn[ind2d] = [sn]\n",
    "\n",
    "                for key in inds_si.keys():\n",
    "                    oib_sit[key[0],key[1]]=np.nanmean(inds_si[key])\n",
    "                    oib_snow[key[0],key[1]]=np.nanmean(inds_sn[key])\n",
    "\n",
    "                if ~np.isnan(oib_sit.all()) or ~np.isnan(oib_snow.all()):\n",
    "                    filepath = '/Users/carmennab/Dropbox/sabrina_oib/25km_ease_binned_data/'+date+'.nc'\n",
    "                    ! rm {filepath} \n",
    "                    data_vars = {'Sea Ice Thickness':(['x','y'],oib_sit),\n",
    "                                 'Snow Depth':(['x','y'],oib_snow)}\n",
    "                    ds = xr.Dataset(data_vars = data_vars,\n",
    "                                    coords={'Longitude':(['x','y'],ease_lons),\n",
    "                                            'Latitude':(['x','y'],ease_lats)},\n",
    "                                    )\n",
    "                    ds.to_netcdf(filepath,'w')\n",
    "            except:\n",
    "                print('out of bounds:',date)"
   ]
  }
 ],
 "metadata": {
  "kernelspec": {
   "display_name": "Python 3 (ipykernel)",
   "language": "python",
   "name": "python3"
  },
  "language_info": {
   "codemirror_mode": {
    "name": "ipython",
    "version": 3
   },
   "file_extension": ".py",
   "mimetype": "text/x-python",
   "name": "python",
   "nbconvert_exporter": "python",
   "pygments_lexer": "ipython3",
   "version": "3.8.15"
  }
 },
 "nbformat": 4,
 "nbformat_minor": 5
}
